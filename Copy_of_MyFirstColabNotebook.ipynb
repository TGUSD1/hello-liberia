{
  "nbformat": 4,
  "nbformat_minor": 0,
  "metadata": {
    "colab": {
      "name": "Copy of MyFirstColabNotebook.ipynb",
      "provenance": [],
      "authorship_tag": "ABX9TyNsPw9f5DY8lHrO1Zz20ipD",
      "include_colab_link": true
    },
    "kernelspec": {
      "name": "python3",
      "display_name": "Python 3"
    }
  },
  "cells": [
    {
      "cell_type": "markdown",
      "metadata": {
        "id": "view-in-github",
        "colab_type": "text"
      },
      "source": [
        "<a href=\"https://colab.research.google.com/github/TGUSD1/hello-liberia/blob/master/Copy_of_MyFirstColabNotebook.ipynb\" target=\"_parent\"><img src=\"https://colab.research.google.com/assets/colab-badge.svg\" alt=\"Open In Colab\"/></a>"
      ]
    },
    {
      "cell_type": "code",
      "metadata": {
        "id": "GhTG7CmH4Qe9",
        "outputId": "9bf3d882-3822-4a88-e0b5-27d0a5bd805e",
        "colab": {
          "base_uri": "https://localhost:8080/"
        }
      },
      "source": [
        "import time\n",
        "print(time.ctime())"
      ],
      "execution_count": null,
      "outputs": [
        {
          "output_type": "stream",
          "text": [
            "Wed Nov  4 11:01:08 2020\n"
          ],
          "name": "stdout"
        }
      ]
    },
    {
      "cell_type": "code",
      "metadata": {
        "id": "5xReu-7P5oyg",
        "outputId": "ef2b2f14-b5f6-45f8-9154-084c177a2d58",
        "colab": {
          "base_uri": "https://localhost:8080/"
        }
      },
      "source": [
        "time.sleep(5)\n",
        "print(time.ctime())"
      ],
      "execution_count": null,
      "outputs": [
        {
          "output_type": "stream",
          "text": [
            "Wed Nov  4 11:01:14 2020\n"
          ],
          "name": "stdout"
        }
      ]
    },
    {
      "cell_type": "code",
      "metadata": {
        "id": "iQbet-br9DL7"
      },
      "source": [
        ""
      ],
      "execution_count": null,
      "outputs": []
    },
    {
      "cell_type": "markdown",
      "metadata": {
        "id": "CtVVZrXn9Em0"
      },
      "source": [
        "This is **bold**.\n",
        "This is *italic*.\n",
        "This is ~striketrough~"
      ]
    },
    {
      "cell_type": "markdown",
      "metadata": {
        "id": "rAZdbJaW_qVp"
      },
      "source": [
        " $\\sqrt{3x-1}+(1+x)^2$"
      ]
    },
    {
      "cell_type": "markdown",
      "metadata": {
        "id": "TG2xPxe-ADrx"
      },
      "source": [
        "$e^X=\\sum_{i=0}^\\infty \\frac{1}{i!}X^i$"
      ]
    },
    {
      "cell_type": "markdown",
      "metadata": {
        "id": "pF1EVnJzA8PC"
      },
      "source": [
        "$3x_1 + 6x_2 + x_3 =< 28$"
      ]
    },
    {
      "cell_type": "markdown",
      "metadata": {
        "id": "6I0EaknUBWMz"
      },
      "source": [
        "$u_i(t) = x_i(t) + \\beta(\\hat{x}(t) - x_i(t)) + \\beta \\sum_{k=1}^{n_v}(x_{i1,k}(t) - x_{i2,k}(t))$"
      ]
    }
  ]
}